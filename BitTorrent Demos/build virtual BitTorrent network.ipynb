{
 "cells": [
  {
   "cell_type": "markdown",
   "id": "a84b4ab7",
   "metadata": {},
   "source": [
    "# Building the virtual environment for BitTorrent Demo"
   ]
  },
  {
   "cell_type": "code",
   "execution_count": null,
   "id": "862d6868",
   "metadata": {},
   "outputs": [],
   "source": [
    "'''We simulate the environment in which BitTorrent runs. \n",
    "We create a virtual environment of --USERS-- with which the --CLIENT-- interacts. \n",
    "\n",
    "Each USER is uniquely identified by an --IP--, and has a folder that contains his files\n",
    "\n",
    "in reality, there's a mechanism (trackers) that enables each user to hold an updated version of torrents. \n",
    "in this simulation the files are global and are always updated whenever a transfer or seeding takes place\n",
    "'''"
   ]
  },
  {
   "cell_type": "code",
   "execution_count": 1,
   "id": "70564b25",
   "metadata": {},
   "outputs": [],
   "source": [
    "#first we import relevant libraries to be used throught the initializing of the virtual network\n",
    "import glob\n",
    "import os\n",
    "import numpy as np\n",
    "import hashlib\n",
    "import random\n",
    "import shutil\n",
    "import json\n"
   ]
  },
  {
   "cell_type": "markdown",
   "id": "8156bcd4",
   "metadata": {},
   "source": [
    "# some functions for computing hashes and working with files"
   ]
  },
  {
   "cell_type": "code",
   "execution_count": 38,
   "id": "09cd1b94",
   "metadata": {},
   "outputs": [],
   "source": [
    "def rand_IP():\n",
    "    '''returns a random IP address, e.g. 255.0.4.26\n",
    "    each entry is between 0 and 255'''\n",
    "    res = str(np.random.randint(0,256)) + '.' + str(np.random.randint(0,256))+ '.' + str(np.random.randint(0,256)) + '.' + str(np.random.randint(0,256))\n",
    "    return res\n",
    "\n",
    "def get_users_list(N):\n",
    "    '''returns a list of N random IP addresses.\n",
    "    These are not necessarily unique. Maybe user created two accounts...'''\n",
    "    return [rand_IP() for i in range(N)]\n",
    "\n",
    "def root_hash(lst):\n",
    "    '''lst is a list of hashes\n",
    "    the function builds a merkle tree and returns the root hash\n",
    "    '''\n",
    "    n=len(lst)\n",
    "    if n==1:\n",
    "        return lst[0]\n",
    "    if n==2:\n",
    "        m = hashlib.sha256()\n",
    "        m.update(lst[0])\n",
    "        m.update(lst[1])\n",
    "        return m.digest()\n",
    "    k=int((n+1)/2)\n",
    "    return root_hash([root_hash(lst[:k]),root_hash(lst[k:])])\n",
    "\n",
    "     \n",
    "def hash_bytes(s):\n",
    "    '''returns the sha256 of a the bytes buffer s as bytes'''\n",
    "    '''if s is a list, ruturn a list of its hashes'''\n",
    "    '''if s is neither a bytes buffer nor a list, convert it to bytes and hash'''\n",
    "    if type(s)==bytes:\n",
    "        m = hashlib.sha256() #creates a SHA-256 hash object\n",
    "        m.update(s)\n",
    "        return m.digest()\n",
    "    else:\n",
    "        if type(s)==list:\n",
    "            return [hash_bytes(element) for element in s]\n",
    "        else:\n",
    "            return hash_bytes(bytes(str(s).encode()))\n",
    "        \n",
    "def name(location):\n",
    "    '''location is a string that contains memory address of a file with a three letter extension, e.g., *.mp4\n",
    "    return the name of the file, without the extension'''\n",
    "    return location[::-1][4:location[::-1].index('\\\\')][::-1]\n",
    "\n",
    "def to_pieces(in_loc, in_name, piece_size, out_folder):\n",
    "    '''reads a file from location in_loc\n",
    "    creates pieces of size piece_size in out_folder\n",
    "    uses in_name to name output files\n",
    "    returns a list of hases\n",
    "    '''\n",
    "    hashes = []\n",
    "    file = open(in_loc,'rb')\n",
    "    file_bytes = file.read()\n",
    "    number_of_pieces = int(np.ceil(len(file_bytes)/piece_size))\n",
    "    for i in range(number_of_pieces):\n",
    "        out_file = open(out_folder+os.sep+in_name+\"__piece_\"+str(i),\"wb\")\n",
    "        piece = file_bytes[i*piece_size:(i+1)*piece_size]\n",
    "        out_file.write(piece)\n",
    "        out_file.close()\n",
    "        hashes.append(hash_bytes(piece))\n",
    "    file.close()\n",
    "    return hashes, len(file_bytes)\n",
    "\n",
    "def piece_name(s):\n",
    "    '''location is a string that contains memory address of a file with no extension\n",
    "    return the name of the file'''\n",
    "    return s[::-1][:s[::-1].index('\\\\')][::-1]\n",
    "    \n",
    "\n",
    "def parse_piece(x):\n",
    "    '''x is a name of a piece, like this: \"Name_of_Movie__piece_10\"\n",
    "    it ends with \"__piece_\" and the the piece number\n",
    "    the function returns a string with the name of the file, and an integer that indicates the piece number'''\n",
    "    num = x[::-1][:x[::-1].index('_')][::-1]\n",
    "    return x[:-len(num)-8], int(num) \n",
    "\n",
    "def update_torrent(user_ip, movie_name, piece_number):\n",
    "    '''the function updates the nodes section of movie_name in the global variable torrents dictionarie'''\n",
    "    if user_ip not in torrents[movie_name]['nodes'][piece_number]:\n",
    "        torrents[movie_name]['nodes'][piece_number].append(user_ip)\n",
    "    return\n",
    "\n",
    "def build_file(directory):\n",
    "    '''directory contains pieces. The function builds an mp4 file'''\n",
    "    pieces_locations = glob.glob(directory+os.sep+\"**\")\n",
    "    file_name = piece_name(pieces_locations[0])[:-10]\n",
    "    with open(directory+os.sep+file_name+\".mp4\",\"wb\") as out_file:\n",
    "        for in_piece in pieces_locations:\n",
    "            with open(in_piece,\"rb\") as temp_piece_file:\n",
    "                data = temp_piece_file.read()\n",
    "                out_file.write(data)\n",
    "    return"
   ]
  },
  {
   "cell_type": "markdown",
   "id": "536fe98a",
   "metadata": {},
   "source": [
    "# Generate a list of virtual users by IP"
   ]
  },
  {
   "cell_type": "code",
   "execution_count": 3,
   "id": "69a2859b",
   "metadata": {},
   "outputs": [],
   "source": [
    "#generate a list of users in the virtual network\n",
    "lst = get_users_list(200)\n",
    "\n",
    "#if we already have it we do:\n",
    "# lst = []\n",
    "# with open(r\"Virtual_Network\\list_of_users.txt\",\"r\") as file:\n",
    "#     for line in file:\n",
    "#         lst.append(line[:-1])"
   ]
  },
  {
   "cell_type": "code",
   "execution_count": 8,
   "id": "ceebc8df",
   "metadata": {},
   "outputs": [
    {
     "data": {
      "text/plain": [
       "200"
      ]
     },
     "execution_count": 8,
     "metadata": {},
     "output_type": "execute_result"
    }
   ],
   "source": [
    "len(set(lst))"
   ]
  },
  {
   "cell_type": "code",
   "execution_count": 5,
   "id": "d693d753",
   "metadata": {},
   "outputs": [],
   "source": [
    "#keep this list as a file in the virtual network folder\n",
    "file = open(r'Virtual_network\\list_of_users.txt','w')\n",
    "for ip in lst:\n",
    "    file.write(ip+'\\n')\n",
    "file.close()"
   ]
  },
  {
   "cell_type": "code",
   "execution_count": 6,
   "id": "cc32fe7c",
   "metadata": {},
   "outputs": [],
   "source": [
    "# create a folder for each user \n",
    "for ip in lst:\n",
    "    os.mkdir(r'Virtual_Network\\Users'+os.sep+ip)"
   ]
  },
  {
   "cell_type": "markdown",
   "id": "7789659b",
   "metadata": {},
   "source": [
    "# Seed first few movies and create their torrent files"
   ]
  },
  {
   "cell_type": "code",
   "execution_count": 11,
   "id": "7fcb269d",
   "metadata": {},
   "outputs": [],
   "source": [
    "# take movies from folder, split them to pieces, and give all the pieces of each movie to a single seeder user\n",
    "# the i'th movie is seeded by the i'th user in lst\n",
    "# and also create torrent files from seeders. \n",
    "\n",
    "MB = 2**20 #size of each piece of file\n",
    "\n",
    "source_dir = r'Virtual_Network\\mp4_files' # local folder to initialize simulation\n",
    "file_locations = glob.glob(source_dir+os.sep+\"**\")\n",
    "num_of_files = len(file_locations)\n",
    "i=0\n",
    "torrents={}\n",
    "for file_loc in file_locations:\n",
    "    current_user = lst[i]\n",
    "    file_hashes , length = to_pieces(file_loc, name(file_loc), MB, r'Virtual_Network\\Users'+os.sep+current_user)\n",
    "    file_root = root_hash(file_hashes).hex()\n",
    "    number_of_pieces = len(file_hashes)\n",
    "    torrents[name(file_loc)]={\n",
    "    \"Announce\" : \"Virtual_Network\\mp4_files\",\n",
    "    \"file location\" : file_loc,\n",
    "    \"file name\" : name(file_loc),\n",
    "    \"root hash of file\" : file_root,\n",
    "    \"ip of seeder\" : lst[i],\n",
    "    \"file length in bytes\" : length,\n",
    "    \"piece length in bytes\" : MB,\n",
    "    \"number of pieces\" : number_of_pieces,\n",
    "    \"hashes\" : [file_hashes[j].hex() for j in range(number_of_pieces)],\n",
    "    \"nodes\" : [[lst[i]] for j in range(number_of_pieces)]\n",
    "    }\n",
    "    i+=1"
   ]
  },
  {
   "cell_type": "markdown",
   "id": "180cfd2a",
   "metadata": {},
   "source": [
    "# Distribute pieces of files among users randomly"
   ]
  },
  {
   "cell_type": "code",
   "execution_count": 13,
   "id": "1c35cb7b",
   "metadata": {},
   "outputs": [],
   "source": [
    "#now, for each of the other non-seeding users, randomly pick 3-6 pieces and give to them\n",
    "\n",
    "pieces_locations = glob.glob(r'C:\\Users\\שרון\\Virtual_Network\\pieces\\**')\n",
    "\n",
    "for ip in lst[5:]:\n",
    "    pieces_for_user = random.randint(3,6)\n",
    "    pieces_for_user = random.sample(pieces_locations,pieces_for_user)\n",
    "    for piece_loc in pieces_for_user:\n",
    "        shutil.copyfile(piece_loc, r'Virtual_Network\\Users'+os.sep+ip+os.sep+piece_name(piece_loc))"
   ]
  },
  {
   "cell_type": "markdown",
   "id": "b16c7ec6",
   "metadata": {},
   "source": [
    "# update torrent files accordingly"
   ]
  },
  {
   "cell_type": "code",
   "execution_count": null,
   "id": "dae69be4",
   "metadata": {},
   "outputs": [],
   "source": [
    "#  we have a function that updates the torrent files from the network\n",
    "# it goes over the network and updates the nodes section of the torrent that says which user holds which pieces\n",
    "# first we create a dictionarie of torrents\n",
    "# the keys are the names of the files, and the values are themselves dictionaries with the file details\n",
    "# later we keep the torrents as json files in the Virtual_network folder, one for each file\n"
   ]
  },
  {
   "cell_type": "code",
   "execution_count": 14,
   "id": "deed7d0a",
   "metadata": {},
   "outputs": [],
   "source": [
    "#now we save each torrent as a json file in memory\n",
    "# we can run this part again as needed after updating the torrents dictionairy\n",
    "torrents_folder = r\"Virtual_Network\\torrents\" \n",
    "for key in torrents:\n",
    "    with open(torrents_folder+os.sep+key+'_torrent.txt', 'w') as outfile:\n",
    "        json.dump(torrents[key], outfile)"
   ]
  },
  {
   "cell_type": "code",
   "execution_count": 17,
   "id": "2faae869",
   "metadata": {},
   "outputs": [],
   "source": [
    "# now we update the torrents\n",
    "for cur_user in lst[5:]:\n",
    "    user_pieces = glob.glob(r'C:\\Users\\שרון\\Virtual_Network\\Users'+os.sep+cur_user+os.sep+r'\\**')\n",
    "    for current_piece in user_pieces:\n",
    "        current_mov_name, current_piece_number = parse_piece(piece_name(current_piece))\n",
    "        update_torrent(cur_user, current_mov_name, current_piece_number)"
   ]
  },
  {
   "cell_type": "code",
   "execution_count": 18,
   "id": "a3e5b840",
   "metadata": {},
   "outputs": [],
   "source": [
    "# now we update the torrents files in memory like we did before\n",
    "torrents_folder = r\"C:\\Users\\שרון\\Virtual_Network\\torrents\" \n",
    "for key in torrents:\n",
    "    with open(torrents_folder+os.sep+key+'_torrent.txt', 'w') as outfile:\n",
    "        json.dump(torrents[key], outfile)\n"
   ]
  },
  {
   "cell_type": "code",
   "execution_count": null,
   "id": "5d01485c",
   "metadata": {},
   "outputs": [],
   "source": [
    "# if necessary, we read the last torrents from memory usin json.read()\n",
    "# with open('data.txt') as json_file:\n",
    "#     data = json.load(json_file)"
   ]
  },
  {
   "cell_type": "code",
   "execution_count": null,
   "id": "1ad8b8d1",
   "metadata": {},
   "outputs": [],
   "source": []
  }
 ],
 "metadata": {
  "kernelspec": {
   "display_name": "Python 3 (ipykernel)",
   "language": "python",
   "name": "python3"
  },
  "language_info": {
   "codemirror_mode": {
    "name": "ipython",
    "version": 3
   },
   "file_extension": ".py",
   "mimetype": "text/x-python",
   "name": "python",
   "nbconvert_exporter": "python",
   "pygments_lexer": "ipython3",
   "version": "3.9.7"
  }
 },
 "nbformat": 4,
 "nbformat_minor": 5
}
